{
 "cells": [
  {
   "cell_type": "markdown",
   "id": "3731b5a2-4882-4325-a951-7fd0c2065bb2",
   "metadata": {},
   "source": [
    "# Final Scraping"
   ]
  },
  {
   "cell_type": "code",
   "execution_count": 31,
   "id": "2878e7c6-3442-46e9-9c2b-fc76dc023e3e",
   "metadata": {},
   "outputs": [
    {
     "name": "stdin",
     "output_type": "stream",
     "text": [
      "url daal https://api.spinny.com/v3/api/listing/v3/?city=delhi&product_type=cars&category=used&page=7&show_max_on_assured=true&custom_budget_sort=true&prioritize_filter_listing=true&high_intent_required=true&active_banner=true&is_max_certified=0\n"
     ]
    },
    {
     "name": "stdout",
     "output_type": "stream",
     "text": [
      "All done!\n",
      "Duplicates removed and file saved as delhi_dataSpinnycleaned.csv\n"
     ]
    }
   ],
   "source": [
    "import requests\n",
    "import pandas as pd\n",
    "import time\n",
    "\n",
    "a = \"delhi\"\n",
    "#b = int(input(\"enter size: \"))\n",
    "url = input(\"url daal\")\n",
    "\n",
    "headers = {\n",
    "    'accept': '*/*',\n",
    "    'accept-language': 'en-GB,en-US;q=0.9,en;q=0.8,de;q=0.7,zh-CN;q=0.6,zh;q=0.5',\n",
    "    'content-type': 'application/json',\n",
    "    'origin': 'https://www.spinny.com',\n",
    "    'referer': 'https://www.spinny.com/',\n",
    "    'user-agent': 'Mozilla/5.0 (Macintosh; Intel Mac OS X 10_15_7) AppleWebKit/537.36 (KHTML, like Gecko) Chrome/134.0.0.0 Safari/537.36',\n",
    "}\n",
    "\n",
    "response = requests.get(\n",
    "    url \n",
    "    ,headers=headers,\n",
    ")\n",
    "\n",
    "data= response.json()\n",
    "\n",
    "\n",
    "car_details = []\n",
    "# Extracting required details from the response\n",
    "for car in data.get('results', []):\n",
    "    details = {\n",
    "        'score': car.get('price'),\n",
    "        'make': car.get('make'),\n",
    "        'model': car.get('model'),\n",
    "        'variant': car.get('variant'),\n",
    "        'year': car.get('make_year'),\n",
    "        'transmissionType': car.get('transmission'),\n",
    "        'fuelType': car.get('fuel_type'),\n",
    "        'ownership': car.get('no_of_owners'),\n",
    "        'emi': car.get('emi'),\n",
    "        'odometer': car.get('mileage')\n",
    "    }\n",
    "    #print(details)\n",
    "    car_details.append(details)\n",
    "    \n",
    "df = pd.DataFrame(car_details)\n",
    "\n",
    "# Saving the DataFrame to a CSV file\n",
    "csv_filename = f\"{a}_dataSpinny.csv\"\n",
    "df.to_csv(csv_filename, mode='a', index=False)\n",
    "\n",
    "print(\"All done!\")\n",
    "\n",
    "# Load the CSV\n",
    "df = pd.read_csv(f\"{a}_dataSpinny.csv\")\n",
    "\n",
    "# Drop duplicates\n",
    "df = df.drop_duplicates()\n",
    "\n",
    "# Optionally reset index\n",
    "df.reset_index(drop=True, inplace=True)\n",
    "\n",
    "# Save the cleaned CSV\n",
    "df.to_csv(f\"{a}_dataSpinnycleaned.csv\", index=False)\n",
    "\n",
    "print(\"Duplicates removed and file saved as \" f\"{a}_dataSpinnycleaned.csv\")\n"
   ]
  },
  {
   "cell_type": "code",
   "execution_count": null,
   "id": "200a5a34-65a3-4b36-881b-2d474f4c582a",
   "metadata": {},
   "outputs": [],
   "source": []
  },
  {
   "cell_type": "code",
   "execution_count": null,
   "id": "d54b9aaf-ebe7-486d-886a-465208558f80",
   "metadata": {},
   "outputs": [],
   "source": [
    "# Load the CSV\n",
    "df = pd.read_csv(f\"{a}_dataSpinny.csv\")\n",
    "\n",
    "# Drop duplicates\n",
    "df = df.drop_duplicates()\n",
    "\n",
    "# Optionally reset index\n",
    "df.reset_index(drop=True, inplace=True)\n",
    "\n",
    "# Save the cleaned CSV\n",
    "df.to_csv(f\"{a}_dataSpinnycleaned.csv\", index=False)\n",
    "\n",
    "print(\"Duplicates removed and file saved as \" f\"{a}_dataSpinnycleaned.csv\")\n"
   ]
  },
  {
   "cell_type": "code",
   "execution_count": null,
   "id": "42fb2d02-b0e8-44ed-84c6-dddb3cff3878",
   "metadata": {},
   "outputs": [],
   "source": []
  },
  {
   "cell_type": "code",
   "execution_count": null,
   "id": "52ab7d64-573c-45f5-91f9-4b6aa0881bd2",
   "metadata": {},
   "outputs": [],
   "source": []
  },
  {
   "cell_type": "code",
   "execution_count": 17,
   "id": "483f07ca-1404-458e-bca0-d844668b501b",
   "metadata": {},
   "outputs": [
    {
     "name": "stdout",
     "output_type": "stream",
     "text": [
      "Page 1 done.\n",
      "Saved all data to spinny_delhi_data.csv\n"
     ]
    }
   ],
   "source": [
    "import requests\n",
    "import pandas as pd\n",
    "import time\n",
    "\n",
    "\n",
    "\n",
    "car_details = []\n",
    "\n",
    "for page in range(1, 2):  # Try up to 100 pages (stop earlier if data ends)\n",
    "    url = f'https://api.spinny.com/v3/api/listing/v3/?city=delhi&product_type=cars&category=used&page={page}&show_max_on_assured=true&custom_budget_sort=true&prioritize_filter_listing=true&high_intent_required=true&active_banner=true&is_max_certified=0'\n",
    "\n",
    "    headers = {\n",
    "    'accept': '*/*',\n",
    "    'accept-language': 'en-GB,en-US;q=0.9,en;q=0.8,de;q=0.7,zh-CN;q=0.6,zh;q=0.5',\n",
    "    'content-type': 'application/json',\n",
    "    'origin': 'https://www.spinny.com',\n",
    "    'referer': 'https://www.spinny.com/',\n",
    "    'user-agent': 'Mozilla/5.0 (Macintosh; Intel Mac OS X 10_15_7) AppleWebKit/537.36 (KHTML, like Gecko) Chrome/134.0.0.0 Safari/537.36',\n",
    "    }\n",
    "    \n",
    "    response = requests.get(url,headers=headers)\n",
    "    data = response.json()\n",
    "\n",
    "    cars = data.get('data', {}).get('listings', [])\n",
    "\n",
    "    for car in cars:\n",
    "        car_details.append({\n",
    "            'make': car.get('make'),\n",
    "            'model': car.get('model'),\n",
    "            'price': car.get('price'),\n",
    "            'variant': car.get('variant'),\n",
    "            'year': car.get('make_year'),\n",
    "            'transmission': car.get('transmission'),\n",
    "            'fuel_type': car.get('fuel_type'),\n",
    "            'owners': car.get('no_of_owners'),\n",
    "            'emi': car.get('emi'),\n",
    "            'odometer': car.get('mileage')\n",
    "        })\n",
    "\n",
    "    print(f\"Page {page} done.\")\n",
    "    time.sleep(1)\n",
    "\n",
    "# Save to CSV\n",
    "df = pd.DataFrame(car_details)\n",
    "df.to_csv(\"spinny_delhi_data.csv\", index=False)\n",
    "print(\"Saved all data to spinny_delhi_data.csv\")\n"
   ]
  },
  {
   "cell_type": "code",
   "execution_count": null,
   "id": "5866dae9-0ee4-49f1-b16c-1db9cfc5c19f",
   "metadata": {},
   "outputs": [],
   "source": [
    "bangalore\n"
   ]
  }
 ],
 "metadata": {
  "kernelspec": {
   "display_name": "Python 3 (ipykernel)",
   "language": "python",
   "name": "python3"
  },
  "language_info": {
   "codemirror_mode": {
    "name": "ipython",
    "version": 3
   },
   "file_extension": ".py",
   "mimetype": "text/x-python",
   "name": "python",
   "nbconvert_exporter": "python",
   "pygments_lexer": "ipython3",
   "version": "3.11.7"
  }
 },
 "nbformat": 4,
 "nbformat_minor": 5
}

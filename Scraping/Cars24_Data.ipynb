{
 "cells": [
  {
   "cell_type": "markdown",
   "id": "40f3dadb-78e4-47cb-b048-59d7657cc5c3",
   "metadata": {},
   "source": [
    "# Final Scraping"
   ]
  },
  {
   "cell_type": "code",
   "execution_count": 514,
   "id": "57b6eaa0-6334-47ca-9e56-2cfc371c4070",
   "metadata": {},
   "outputs": [
    {
     "name": "stdin",
     "output_type": "stream",
     "text": [
      "city code:  4709\n",
      "city name:  bangalore\n"
     ]
    }
   ],
   "source": [
    "import requests\n",
    "a = int(input(\"city code: \"))\n",
    "b = input(\"city name: \")\n",
    "\n",
    "headers = {\n",
    "    'accept': 'application/json, text/plain, */*',\n",
    "    'accept-language': 'en-GB,en-US;q=0.9,en;q=0.8,de;q=0.7,zh-CN;q=0.6,zh;q=0.5',\n",
    "    'clientid': '166209584.1736591986',\n",
    "    'content-type': 'application/json',\n",
    "    'origin': 'https://www.cars24.com',\n",
    "    'referer': 'https://www.cars24.com/',\n",
    "    'user-agent': 'Mozilla/5.0 (Macintosh; Intel Mac OS X 10_15_7) AppleWebKit/537.36 (KHTML, like Gecko) Chrome/134.0.0.0 Safari/537.36',\n",
    "    'x_experiment_id': '300b1228-c323-4dcc-845e-d987ab884b98',\n",
    "    'x_tenant_id': 'INDIA_CAR_LISTING',\n",
    "    'x_user_city_id': '1',\n",
    "}\n",
    "\n",
    "json_data = {\n",
    "    'searchFilter': [],\n",
    "    'cityId': a,\n",
    "    'sort': 'phl',\n",
    "    'size': 500,\n",
    "}\n",
    "\n",
    "response = requests.post(f'https://car-catalog-gateway-in.c24.tech/listing/v1/buy-used-cars-{b}',headers=headers,json=json_data,)"
   ]
  },
  {
   "cell_type": "code",
   "execution_count": 516,
   "id": "bc8f10d7-be0d-4ac6-964f-c00f7e1f0f52",
   "metadata": {},
   "outputs": [],
   "source": [
    "data= response.json()"
   ]
  },
  {
   "cell_type": "code",
   "execution_count": 518,
   "id": "4bbb06d5-283d-41d8-be41-7d5e70470462",
   "metadata": {},
   "outputs": [],
   "source": [
    "car_details = []\n",
    "# Extracting required details from the response\n",
    "for car in data.get('content', []):\n",
    "    details = {\n",
    "        'score': car.get('score'),\n",
    "        'make': car.get('make'),\n",
    "        'model': car.get('model'),\n",
    "        'variant': car.get('variant'),\n",
    "        'year': car.get('year'),\n",
    "        'transmissionType': car.get('transmissionType', {}).get('value', 'N/A'),\n",
    "        'fuelType': car.get('fuelType'),\n",
    "        'ownership': car.get('ownership'),\n",
    "        'emi': car.get('emiDetails', {}).get('emiStartingValue', 'N/A'),\n",
    "        'odometer': car.get('odometer', {}).get('value', 'N/A')\n",
    "    }\n",
    "    #print(details)\n",
    "    car_details.append(details)\n",
    "    \n",
    "df = pd.DataFrame(car_details)"
   ]
  },
  {
   "cell_type": "code",
   "execution_count": 520,
   "id": "89381457-67fc-4cb7-9116-3ec70e03ee66",
   "metadata": {},
   "outputs": [
    {
     "name": "stdout",
     "output_type": "stream",
     "text": [
      "All done!\n"
     ]
    }
   ],
   "source": [
    "# Saving the DataFrame to a CSV file\n",
    "csv_filename = f\"{b}_data.csv\"\n",
    "df.to_csv(csv_filename, mode='a', index=False)\n",
    "\n",
    "print(\"All done!\")"
   ]
  },
  {
   "cell_type": "code",
   "execution_count": null,
   "id": "df5dd1dc-b94a-48d6-b9e6-836ba075c603",
   "metadata": {},
   "outputs": [],
   "source": []
  },
  {
   "cell_type": "code",
   "execution_count": null,
   "id": "90544087-7506-4f34-929d-f1dbbe002b52",
   "metadata": {},
   "outputs": [],
   "source": []
  }
 ],
 "metadata": {
  "kernelspec": {
   "display_name": "Python 3 (ipykernel)",
   "language": "python",
   "name": "python3"
  },
  "language_info": {
   "codemirror_mode": {
    "name": "ipython",
    "version": 3
   },
   "file_extension": ".py",
   "mimetype": "text/x-python",
   "name": "python",
   "nbconvert_exporter": "python",
   "pygments_lexer": "ipython3",
   "version": "3.11.7"
  }
 },
 "nbformat": 4,
 "nbformat_minor": 5
}
